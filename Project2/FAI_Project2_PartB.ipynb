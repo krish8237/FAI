{
  "nbformat": 4,
  "nbformat_minor": 0,
  "metadata": {
    "colab": {
      "provenance": []
    },
    "kernelspec": {
      "name": "python3",
      "display_name": "Python 3"
    },
    "language_info": {
      "name": "python"
    }
  },
  "cells": [
    {
      "cell_type": "markdown",
      "source": [
        "### **Fundamentals of AI Project B Part A** (**By** Vamsi Krishna A)\n",
        "\n",
        "The answers for each requirement **R3, R4, R5 and R**6 are mentioned below the code\n",
        "\n",
        "***Shareable URL :*** https://colab.research.google.com/drive/1qs9sMKEbZT-7vA74mSbedKngX7MDK79Y?usp=sharing\n"
      ],
      "metadata": {
        "id": "203HW_GxXhtC"
      }
    },
    {
      "cell_type": "code",
      "execution_count": null,
      "metadata": {
        "id": "q4bKV5uwq1Dp"
      },
      "outputs": [],
      "source": [
        "import matplotlib.pyplot as plt\n",
        "import random\n",
        "import math\n",
        "import numpy"
      ]
    },
    {
      "cell_type": "code",
      "source": [
        "import matplotlib.pyplot as plt\n",
        "\n",
        "def plot_schedule(machine_data, machine_num, figsize=(10, 6)):\n",
        "    plt.figure(figsize=figsize)\n",
        "    plt.title(f\"Job Schedule\")\n",
        "    plt.xlabel(\"Time\")\n",
        "    plt.ylabel(\"Job\")\n",
        "    color_names = [\n",
        "        'red', 'green', 'blue', 'yellow', 'orange', 'purple',\n",
        "        'cyan', 'magenta', 'lime', 'pink', 'teal', 'lavender',\n",
        "        'brown', 'beige', 'maroon', 'mint', 'coral', 'navy',\n",
        "        'olive', 'grey', 'black', 'white'\n",
        "    ]\n",
        "    for job_data in machine_data:\n",
        "        job_name, start_time, end_time, m = job_data\n",
        "        plt.plot([start_time, end_time], [job_name, job_name], linewidth=2, label=job_name, color=color_names[m])\n",
        "        plt.scatter(start_time, job_name, color='green', marker='|', s=100, label='Start')\n",
        "        plt.scatter(end_time, job_name, color='red', marker='|', s=100, label='End')\n",
        "\n",
        "    # plt.legend()\n",
        "    plt.yticks(range(len(machine_data)), [job_data[0] for job_data in machine_data])\n",
        "    plt.xticks(range(end_time + 1))\n",
        "    plt.grid(True)\n",
        "    plt.show()"
      ],
      "metadata": {
        "id": "XH8ub_KwKLvf"
      },
      "execution_count": null,
      "outputs": []
    },
    {
      "cell_type": "markdown",
      "source": [
        "### Code to allocate operations to machines based on the given schedule sequence (Implementation of **R1**)"
      ],
      "metadata": {
        "id": "ISvuRgOC7Pr9"
      }
    },
    {
      "cell_type": "code",
      "source": [
        "def get_start_time(prev_job_end_time, machine):\n",
        "  if(machine):\n",
        "    if(machine[-1][-1] >= prev_job_end_time):\n",
        "      return machine[-1][-1]\n",
        "    else:\n",
        "      return machine[-1][-1] + abs(machine[-1][-1] - prev_job_end_time)\n",
        "  return prev_job_end_time\n",
        "\n",
        "def allocate_ops_to_machines(job_schedule, J, M):\n",
        "    machines = [[] for i in range(M)]\n",
        "    # print(machines)\n",
        "    opt_sched = []\n",
        "    o_c = 0\n",
        "    for ji, j in enumerate(job_schedule, start = 1):\n",
        "        o_s, prev_job_end_time = 0, 0\n",
        "        j = j - 1\n",
        "        for oi, o in enumerate(J[j], start = 1):\n",
        "            machine = machines[(o_c - 1) % M]\n",
        "            s_t = get_start_time(prev_job_end_time, machine)\n",
        "            machine.append([f\"J_{j}_O_{oi}\", s_t, s_t + o])\n",
        "            prev_job_end_time = s_t + o\n",
        "            o_c += 1\n",
        "            # print([f\"J_{j+1}_O_{oi}\", s_t, s_t + o])\n",
        "            opt_sched.append([f\"J_{j+1}_O_{oi}\", s_t, s_t + o, (o_c - 1) % M])\n",
        "    # print(machines)\n",
        "\n",
        "    return opt_sched"
      ],
      "metadata": {
        "id": "uAxejTt5JZ--"
      },
      "execution_count": null,
      "outputs": []
    },
    {
      "cell_type": "markdown",
      "source": [
        "### Method to create **N Jobs** with **M operations** each with job time in the given **duration_range**"
      ],
      "metadata": {
        "id": "aNn_4jLu7oMk"
      }
    },
    {
      "cell_type": "code",
      "source": [
        "def create_n_jobs(N, M, duration_range):\n",
        "  '''\n",
        "    N - Number of Jobs\n",
        "    M - Number of operations in each Job\n",
        "    duration_range - [start, end], the range in which the random operation times are generated\n",
        "  '''\n",
        "  return [[random.choice(range(duration_range[0], duration_range[1] + 1)) for j in range(M)] for i in range(N)]"
      ],
      "metadata": {
        "id": "u431moodPpv6"
      },
      "execution_count": null,
      "outputs": []
    },
    {
      "cell_type": "markdown",
      "source": [
        "### Code to generate the successor by swapping two random jobs"
      ],
      "metadata": {
        "id": "3zWGAHTS75Yh"
      }
    },
    {
      "cell_type": "code",
      "source": [
        "def successor(job_sched, N):\n",
        "  '''\n",
        "    This method takes two random points in the schedule and swaps their order\n",
        "\n",
        "    job_schedule : list of jobs that are scheduled\n",
        "    N : Total number of Jobs\n",
        "  '''\n",
        "  n1, n2 = random.sample(range(N), 2)\n",
        "  job_sched[n1], job_sched[n2] = job_sched[n2], job_sched[n1]\n",
        "  return job_sched"
      ],
      "metadata": {
        "id": "FeZTRHLCUz8i"
      },
      "execution_count": null,
      "outputs": []
    },
    {
      "cell_type": "markdown",
      "source": [
        "### Code to compute and return the makespan value (Implementation of R2)"
      ],
      "metadata": {
        "id": "3iCWsTvW8VtN"
      }
    },
    {
      "cell_type": "code",
      "source": [
        "def comp_makespan(operations_schedule):\n",
        "  '''\n",
        "    This method returns the maximum make span value\n",
        "  '''\n",
        "  make_span = 0\n",
        "  for operation in operations_schedule:\n",
        "    make_span = max(make_span, operation[-2])\n",
        "  return make_span"
      ],
      "metadata": {
        "id": "3bUwPgTwYaje"
      },
      "execution_count": null,
      "outputs": []
    },
    {
      "cell_type": "code",
      "source": [
        "def simulated_annealing(J, jobs, N, initial_schedule = None):\n",
        "\n",
        "  T = 1000\n",
        "  current_job_schedule = numpy.random.permutation(J) + 1 if initial_schedule == None else initial_schedule\n",
        "  current_opt_schedule = allocate_ops_to_machines(current_job_schedule, jobs, N)\n",
        "  initial_makespan = comp_makespan(allocate_ops_to_machines(current_job_schedule, jobs, N))\n",
        "  print(f\"Initial Schedule : {current_job_schedule}, make span = {initial_makespan}\")\n",
        "  i = 0\n",
        "  while(i < 400):\n",
        "    next_job_schedule = successor(current_job_schedule, J)\n",
        "    next_opt_schedule = allocate_ops_to_machines(next_job_schedule, jobs, N)\n",
        "    ΔE = comp_makespan(next_opt_schedule) - comp_makespan(current_opt_schedule)\n",
        "    if(ΔE < 0):\n",
        "      current_job_schedule = next_job_schedule\n",
        "      current_opt_schedule = next_opt_schedule\n",
        "    else:\n",
        "      r=random.random()\n",
        "      e_ΔE_by_T = math.exp(ΔE / T)\n",
        "      if(e_ΔE_by_T < r):\n",
        "        current_job_schedule = next_job_schedule\n",
        "        current_opt_schedule = next_opt_schedule\n",
        "    # print(current_job_schedule)\n",
        "    i += 1\n",
        "    T *= 0.99\n",
        "  return comp_makespan(current_opt_schedule), initial_makespan"
      ],
      "metadata": {
        "id": "j-pGmxnbSNzp"
      },
      "execution_count": null,
      "outputs": []
    },
    {
      "cell_type": "code",
      "source": [
        "jobs = [[3, 6], [10, 1], [3, 2], [2, 4], [8, 8]]\n",
        "J = [4, 1, 5, 3, 2]\n",
        "M = 2\n",
        "\n",
        "schedule = allocate_ops_to_machines(J, jobs.copy(), M)\n",
        "\n",
        "print(schedule)\n",
        "print(comp_makespan(schedule))"
      ],
      "metadata": {
        "colab": {
          "base_uri": "https://localhost:8080/"
        },
        "id": "WFFFBxRBatPT",
        "outputId": "7fbec1ff-a255-4765-9395-b78fbdc8f7bf"
      },
      "execution_count": null,
      "outputs": [
        {
          "output_type": "stream",
          "name": "stdout",
          "text": [
            "[['J_4_O_1', 0, 2, 0], ['J_4_O_2', 2, 6, 1], ['J_1_O_1', 2, 5, 0], ['J_1_O_2', 6, 12, 1], ['J_5_O_1', 5, 13, 0], ['J_5_O_2', 13, 21, 1], ['J_3_O_1', 13, 16, 0], ['J_3_O_2', 21, 23, 1], ['J_2_O_1', 16, 26, 0], ['J_2_O_2', 26, 27, 1]]\n",
            "27\n"
          ]
        }
      ]
    },
    {
      "cell_type": "code",
      "source": [
        "plot_schedule(schedule, 1)"
      ],
      "metadata": {
        "colab": {
          "base_uri": "https://localhost:8080/",
          "height": 564
        },
        "id": "lfixMVG_3Toi",
        "outputId": "a2919d48-2519-4cf7-d0b2-3b426a8c8c05"
      },
      "execution_count": null,
      "outputs": [
        {
          "output_type": "display_data",
          "data": {
            "text/plain": [
              "<Figure size 1000x600 with 1 Axes>"
            ],
            "image/png": "[encoded data removed]"
          },
          "metadata": {}
        }
      ]
    },
    {
      "cell_type": "markdown",
      "source": [
        "\n",
        "\n",
        "\n",
        "\n",
        "*   **R3 -** Jobs used in Table1 of Tutorial 3 were used to generate the Makespan using Simulated Annealing\n",
        "\n",
        "\n",
        "\n"
      ],
      "metadata": {
        "id": "nTU1K4IDKnHN"
      }
    },
    {
      "cell_type": "markdown",
      "source": [
        "# R3\n",
        "\n",
        "*   Simulated Annealing algorithm with **Random** initial schedule and the final **makespan**"
      ],
      "metadata": {
        "id": "6OsRyh0Jjl0S"
      }
    },
    {
      "cell_type": "code",
      "source": [
        "R3_random, initial_makespan = simulated_annealing(5, jobs, 2)\n",
        "print(f\"The final makespan value is : {R3_random}\")\n",
        "print(f\"The Difference between the initial and final makspan : {abs(R3_random - initial_makespan)}\")"
      ],
      "metadata": {
        "colab": {
          "base_uri": "https://localhost:8080/"
        },
        "id": "SqR3mwk7-rYK",
        "outputId": "fa986622-6a6b-4ff8-d89f-24dc9447d619"
      },
      "execution_count": null,
      "outputs": [
        {
          "output_type": "stream",
          "name": "stdout",
          "text": [
            "Initial Schedule : [5 1 3 2 4], make span = 30\n",
            "The final makespan value is : 27\n",
            "The Difference between the initial and final makspan : 3\n"
          ]
        }
      ]
    },
    {
      "cell_type": "markdown",
      "source": [
        "\n",
        "\n",
        "*   Simulated Annealing with the initial schedule as **[4, 1, 5, 3, 2]** and the final makespan\n",
        "\n"
      ],
      "metadata": {
        "id": "YTj5PQv1kW9g"
      }
    },
    {
      "cell_type": "code",
      "source": [
        "R3_initial, initial_makespan = simulated_annealing(5, jobs, 2, [4, 1, 5, 3, 2])\n",
        "print(f\"The final makespan value is : {R3_initial}\")\n",
        "print(f\"The Difference between the initial and final makspan : {abs(R3_initial - initial_makespan)}\")"
      ],
      "metadata": {
        "colab": {
          "base_uri": "https://localhost:8080/"
        },
        "id": "xquLw907O-4B",
        "outputId": "0f33215e-b60f-43fd-8a38-7ab2d120dc29"
      },
      "execution_count": null,
      "outputs": [
        {
          "output_type": "stream",
          "name": "stdout",
          "text": [
            "Initial Schedule : [4, 1, 5, 3, 2], make span = 27\n",
            "The final makespan value is : 27\n",
            "The Difference between the initial and final makspan : 0\n"
          ]
        }
      ]
    },
    {
      "cell_type": "markdown",
      "source": [
        "# R4\n",
        "\n",
        "* The **makespan value** returned by the Simulated Annealing algorithm is **lesser than** the **makespan of the initial** schedule.\n",
        "* ***i.e.;*** The ***optimal makespan*** when compared to ***initial makespan*** is being returned by the **SA**"
      ],
      "metadata": {
        "id": "ga2oVueamMA1"
      }
    },
    {
      "cell_type": "code",
      "source": [
        "R4_jobs = create_n_jobs(50, 3, [5, 50])\n",
        "R4_M = 5\n",
        "R4_makespan, initial_makespan = simulated_annealing(50, R4_jobs, R4_M)\n",
        "print(f\"The final makespan value is : {R4_makespan}\")\n",
        "print(f\"The Difference between the initial and final makspan : {abs(R4_makespan - initial_makespan)}\")"
      ],
      "metadata": {
        "colab": {
          "base_uri": "https://localhost:8080/"
        },
        "id": "i8Ga30Zd3crI",
        "outputId": "afe987a5-bada-4776-90de-3dbde2bd5d48"
      },
      "execution_count": null,
      "outputs": [
        {
          "output_type": "stream",
          "name": "stdout",
          "text": [
            "Initial Schedule : [ 4  3 48 13 45  6 32 25 33 44 21 10 47 24 34 31 23  7  9 35 46 11 14 17\n",
            " 27 37  2 41 20 38 29 15 50 40 19 43  5 42 22 16 28 30  8  1 12 39 36 49\n",
            " 18 26], make span = 1638\n",
            "The final makespan value is : 1526\n",
            "The Difference between the initial and final makspan : 112\n"
          ]
        }
      ]
    },
    {
      "cell_type": "markdown",
      "source": [
        "# R5\n",
        "\n",
        "* The **makespan value** returned by the Simulated Annealing algorithm is **lesser than** the **makespan of the initial** schedule.\n",
        "* ***i.e.;*** The ***optimal makespan*** when compared to ***initial makespan*** is being returned by the **SA**"
      ],
      "metadata": {
        "id": "c1C-9kwznojm"
      }
    },
    {
      "cell_type": "code",
      "source": [
        "R5_jobs = create_n_jobs(50, 5, [5, 50])\n",
        "R5_M = 3\n",
        "R5_makespan, initial_makespan = simulated_annealing(50, R5_jobs, R5_M)\n",
        "print(f\"The final makespan value is : {R5_makespan}\")\n",
        "print(f\"The Difference between the initial and final makspan : {abs(R5_makespan - initial_makespan)}\")"
      ],
      "metadata": {
        "colab": {
          "base_uri": "https://localhost:8080/"
        },
        "id": "t2glQ1TI74sb",
        "outputId": "2b4cec8e-e776-43d2-daaf-1ed6b5a6f289"
      },
      "execution_count": null,
      "outputs": [
        {
          "output_type": "stream",
          "name": "stdout",
          "text": [
            "Initial Schedule : [ 4  1 46 12 27 37 13 21 18 48 39 26 22 42 29 24 19 20  2 36 25  7 47 50\n",
            " 30  8 16 15 45  6 35 34  5 38 31 33 44 11 10 14 40  3 28 49 23 32  9 17\n",
            " 41 43], make span = 4635\n",
            "The final makespan value is : 4552\n",
            "The Difference between the initial and final makspan : 83\n"
          ]
        }
      ]
    },
    {
      "cell_type": "markdown",
      "source": [
        "# R6\n",
        "\n",
        "### Assumptions\n",
        "\n",
        "* The condition **\"ΔE > 0\"** as per the Tutorial 3 is been changed to the **\"ΔE < 0\"** where if the neighbours makespan is less than the current makespan then the neighbour should be accepted.\n",
        "\n",
        "### Description\n",
        "\n",
        "* Using the simulated algorithm the optimal makespan value is computed and returned. As per the observations from the above requirements and their generated solutions, we can make sure that the final makespan value is less than the the initial makespan value.\n",
        "* The performance of this algorithm can be improved by selecting the best initial schedule. Here, the code is configured in such a way to generate the random schedule and the same is being used to expand further."
      ],
      "metadata": {
        "id": "XHRVDGIFo-ua"
      }
    }
  ]
}